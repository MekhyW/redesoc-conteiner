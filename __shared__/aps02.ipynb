{
 "cells": [
  {
   "cell_type": "markdown",
   "id": "4ce9c031-1c96-4d9d-bd80-1d5b2d5bc745",
   "metadata": {},
   "source": [
    "# Redes Sociais - APS 2\n",
    "\n",
    "### Alunos: Arthur Barreto, Enricco Gemha e Felipe Catapano\n"
   ]
  },
  {
   "cell_type": "markdown",
   "id": "e86fcb55-f899-43ff-961a-59b4b514d4e8",
   "metadata": {},
   "source": [
    "Uma rede de artistas do Spotify que se conectam através de participar em determinada música, que foi topo das paradas em alguma semana no mundo, durante o período de 28/09/2013 a 09/10/2022. Os vértices representam artistas do Spotify e uma aresta não-direcionada indica uma música feita em parceria por dois artistas.\n",
    "\n",
    "_Nota: os grafos são não-dirigidos, conforme informado no agregador de databases [Kaggle](https://www.kaggle.com/datasets/jfreyberg/spotify-artist-feature-collaboration-network), do qual foi extraído a base utilizada aqui._"
   ]
  },
  {
   "cell_type": "markdown",
   "id": "49e6270e-0e80-4d84-a982-5b6b5edac999",
   "metadata": {},
   "source": [
    "## Pré-requisitos"
   ]
  },
  {
   "cell_type": "code",
   "execution_count": 1,
   "id": "d3642d09-6843-4ee8-b1ba-ea0c4e4eaba1",
   "metadata": {
    "execution": {
     "iopub.execute_input": "2023-09-18T19:06:26.149051Z",
     "iopub.status.busy": "2023-09-18T19:06:26.148860Z",
     "iopub.status.idle": "2023-09-18T19:06:27.035420Z",
     "shell.execute_reply": "2023-09-18T19:06:27.034829Z",
     "shell.execute_reply.started": "2023-09-18T19:06:26.149038Z"
    }
   },
   "outputs": [
    {
     "data": {
      "text/html": [
       "\n",
       "    <script src=\"/static/.hidden/netpixi.min.js\"></script>\n"
      ],
      "text/plain": [
       "<IPython.core.display.HTML object>"
      ]
     },
     "metadata": {},
     "output_type": "display_data"
    }
   ],
   "source": [
    "import graph_tool_extras as gte\n",
    "import netpixi\n",
    "from graph_tool import draw\n",
    "import distribution as dst"
   ]
  },
  {
   "cell_type": "code",
   "execution_count": 2,
   "id": "6c4825c7-b729-4cfc-b7aa-5e29752d5da5",
   "metadata": {
    "execution": {
     "iopub.execute_input": "2023-09-18T19:06:27.036313Z",
     "iopub.status.busy": "2023-09-18T19:06:27.036077Z",
     "iopub.status.idle": "2023-09-18T19:06:27.038913Z",
     "shell.execute_reply": "2023-09-18T19:06:27.038383Z",
     "shell.execute_reply.started": "2023-09-18T19:06:27.036300Z"
    }
   },
   "outputs": [],
   "source": [
    "PATH = 'edges.csv'\n",
    "PATH_NOS = 'nodes.csv'"
   ]
  },
  {
   "cell_type": "markdown",
   "id": "6cfb4f88-813b-44ee-a0f9-a989339cca89",
   "metadata": {},
   "source": [
    "## Análise dos dados importados"
   ]
  },
  {
   "cell_type": "markdown",
   "id": "ca4869c1-d596-4e00-bea7-4baaead6f431",
   "metadata": {},
   "source": [
    "O arquivo que informa sobre os nos é o arquivo `nodes.csv`. Segue a analise inicial da quantidade de nos:"
   ]
  },
  {
   "cell_type": "code",
   "execution_count": 3,
   "id": "2672eccc-f0ae-4da9-adf1-e375233d9ad9",
   "metadata": {
    "execution": {
     "iopub.execute_input": "2023-09-18T19:06:28.645119Z",
     "iopub.status.busy": "2023-09-18T19:06:28.644907Z",
     "iopub.status.idle": "2023-09-18T19:06:28.649904Z",
     "shell.execute_reply": "2023-09-18T19:06:28.649295Z",
     "shell.execute_reply.started": "2023-09-18T19:06:28.645106Z"
    }
   },
   "outputs": [
    {
     "name": "stdout",
     "output_type": "stream",
     "text": [
      "48WvrUGoijadXXCsGocwM4\n",
      "4lDiJcOJ2GLCK6p9q5BgfK\n",
      "652XIvIBNGg3C0KIGEJWit\n",
      "3dXC1YPbnQPsfHPVkm1ipj\n",
      "74terC9ol9zMo8rfzhSOiG\n"
     ]
    }
   ],
   "source": [
    "with open(PATH_NOS) as file:\n",
    "\n",
    "    # cria index de contagem para o loop abaixo.\n",
    "    i = 0\n",
    "    \n",
    "    # ignora o cabeçalho.\n",
    "    next(file)\n",
    "\n",
    "    # Para não sobrecarregar este notebook\n",
    "    # vamos espiar somente as 5 primeiras linhas.\n",
    "    for line in file:\n",
    "\n",
    "        # Transforma a linha em uma lista de partes,\n",
    "        # considerando a vírgula como separador.\n",
    "        parts = line.split(',')\n",
    "        print(parts[0])\n",
    "\n",
    "        # Para não sobrecarregar este notebook, vamos usar um contador\n",
    "        # e um break para imprimir apenas as cinco primeiras linhas.\n",
    "        i += 1\n",
    "        if i == 5:\n",
    "            break"
   ]
  },
  {
   "cell_type": "markdown",
   "id": "2b3ab129-e98c-4dab-8908-e2ee34a6da58",
   "metadata": {},
   "source": [
    "### Extratificando a amostra no número de nos"
   ]
  },
  {
   "cell_type": "code",
   "execution_count": 4,
   "id": "e2860ecb-5470-4a38-9e83-7ece083a37d6",
   "metadata": {
    "execution": {
     "iopub.execute_input": "2023-09-18T19:06:34.593130Z",
     "iopub.status.busy": "2023-09-18T19:06:34.592800Z",
     "iopub.status.idle": "2023-09-18T19:06:34.595666Z",
     "shell.execute_reply": "2023-09-18T19:06:34.595256Z",
     "shell.execute_reply.started": "2023-09-18T19:06:34.593115Z"
    }
   },
   "outputs": [],
   "source": [
    "dict_nos = {}"
   ]
  },
  {
   "cell_type": "code",
   "execution_count": 5,
   "id": "7d9863c2-911d-4f10-9189-860e290c77f2",
   "metadata": {
    "execution": {
     "iopub.execute_input": "2023-09-18T19:06:35.536651Z",
     "iopub.status.busy": "2023-09-18T19:06:35.536415Z",
     "iopub.status.idle": "2023-09-18T19:06:35.696592Z",
     "shell.execute_reply": "2023-09-18T19:06:35.695985Z",
     "shell.execute_reply.started": "2023-09-18T19:06:35.536632Z"
    }
   },
   "outputs": [],
   "source": [
    "with open(PATH_NOS) as file:\n",
    "\n",
    "    # cria index de contagem para o loop abaixo.\n",
    "    i = 0\n",
    "    qtd_nos = 1\n",
    "    \n",
    "    # ignora o cabeçalho.\n",
    "    next(file)\n",
    "\n",
    "    # Para não sobrecarregar este notebook\n",
    "    # vamos espiar somente as 5 primeiras linhas.\n",
    "    for line in file:\n",
    "\n",
    "        # Transforma a linha em uma lista de partes,\n",
    "        # considerando a vírgula como separador.\n",
    "        parts = line.split(',')\n",
    "\n",
    "        no = parts[0]\n",
    "\n",
    "        if no not in dict_nos:\n",
    "            dict_nos[no] = qtd_nos\n",
    "            qtd_nos += 1\n",
    "            \n",
    "        i += 1\n",
    "    "
   ]
  },
  {
   "cell_type": "code",
   "execution_count": 6,
   "id": "b73c2171-4c18-4292-a9ef-7d6ca587e058",
   "metadata": {
    "execution": {
     "iopub.execute_input": "2023-09-18T19:06:37.816859Z",
     "iopub.status.busy": "2023-09-18T19:06:37.816671Z",
     "iopub.status.idle": "2023-09-18T19:06:37.820084Z",
     "shell.execute_reply": "2023-09-18T19:06:37.819617Z",
     "shell.execute_reply.started": "2023-09-18T19:06:37.816846Z"
    }
   },
   "outputs": [
    {
     "name": "stdout",
     "output_type": "stream",
     "text": [
      "há 156321 nos\n"
     ]
    }
   ],
   "source": [
    "print(f'há {qtd_nos} nos')"
   ]
  },
  {
   "cell_type": "markdown",
   "id": "b38ceda2-b9e8-4f4a-a280-049309afc8a3",
   "metadata": {},
   "source": [
    "Visualizando os valores do dicionário:"
   ]
  },
  {
   "cell_type": "code",
   "execution_count": 7,
   "id": "5c504635-ed37-43a5-bd25-e9731ffea7b7",
   "metadata": {
    "execution": {
     "iopub.execute_input": "2023-09-18T19:06:41.089134Z",
     "iopub.status.busy": "2023-09-18T19:06:41.088826Z",
     "iopub.status.idle": "2023-09-18T19:06:41.095174Z",
     "shell.execute_reply": "2023-09-18T19:06:41.094698Z",
     "shell.execute_reply.started": "2023-09-18T19:06:41.089120Z"
    }
   },
   "outputs": [
    {
     "data": {
      "text/plain": [
       "['48WvrUGoijadXXCsGocwM4',\n",
       " '4lDiJcOJ2GLCK6p9q5BgfK',\n",
       " '652XIvIBNGg3C0KIGEJWit',\n",
       " '3dXC1YPbnQPsfHPVkm1ipj',\n",
       " '74terC9ol9zMo8rfzhSOiG']"
      ]
     },
     "execution_count": 7,
     "metadata": {},
     "output_type": "execute_result"
    }
   ],
   "source": [
    "list(dict_nos.keys())[:5]"
   ]
  },
  {
   "cell_type": "code",
   "execution_count": 8,
   "id": "607b92e9-d285-4eaf-b513-5d55cb11fc71",
   "metadata": {
    "execution": {
     "iopub.execute_input": "2023-09-18T19:06:41.348178Z",
     "iopub.status.busy": "2023-09-18T19:06:41.347844Z",
     "iopub.status.idle": "2023-09-18T19:06:41.354276Z",
     "shell.execute_reply": "2023-09-18T19:06:41.353749Z",
     "shell.execute_reply.started": "2023-09-18T19:06:41.348162Z"
    }
   },
   "outputs": [
    {
     "data": {
      "text/plain": [
       "[1, 2, 3, 4, 5]"
      ]
     },
     "execution_count": 8,
     "metadata": {},
     "output_type": "execute_result"
    }
   ],
   "source": [
    "list(dict_nos.values())[:5]"
   ]
  },
  {
   "cell_type": "markdown",
   "id": "43ab68a7-ca00-4a08-a40e-4eba53a2081c",
   "metadata": {},
   "source": [
    "A abordagem serrá sortear indices, que variam de 1 até `qtd_nos`. Após isso, basta verificar os indices sorteados que estão na lista de valores do dicionário criando."
   ]
  },
  {
   "cell_type": "code",
   "execution_count": 9,
   "id": "852af956-a3c0-4b70-9b14-85d00e2f30c9",
   "metadata": {
    "execution": {
     "iopub.execute_input": "2023-09-18T19:06:43.377249Z",
     "iopub.status.busy": "2023-09-18T19:06:43.377032Z",
     "iopub.status.idle": "2023-09-18T19:06:43.418586Z",
     "shell.execute_reply": "2023-09-18T19:06:43.418269Z",
     "shell.execute_reply.started": "2023-09-18T19:06:43.377236Z"
    }
   },
   "outputs": [
    {
     "data": {
      "text/plain": [
       "array([ 3,  4,  7, 11, 12])"
      ]
     },
     "execution_count": 9,
     "metadata": {},
     "output_type": "execute_result"
    }
   ],
   "source": [
    "import numpy as np\n",
    "from numpy.random import choice\n",
    "\n",
    "lisIdx = np.arange(1,qtd_nos + 1, 1)\n",
    "lisProb = np.ones(shape=len(lisIdx), dtype=lisIdx.dtype)\n",
    "lisProb = np.divide(lisProb, len(lisProb))\n",
    "idxSort = choice(lisIdx, int(75e3), p = lisProb, replace = False)\n",
    "idxSort.sort()\n",
    "idxSort[:5]"
   ]
  },
  {
   "cell_type": "markdown",
   "id": "c4799fd5-41de-4c79-8488-adabec5ea416",
   "metadata": {},
   "source": [
    "Para facilitar a verificação dos nos considerados, basta inverter o dionário, desta forma, as chaves serão os indices e os valores os nos em si."
   ]
  },
  {
   "cell_type": "code",
   "execution_count": 10,
   "id": "2d17e18a-8038-4b56-be4f-089961f20964",
   "metadata": {
    "execution": {
     "iopub.execute_input": "2023-09-18T19:06:47.289087Z",
     "iopub.status.busy": "2023-09-18T19:06:47.288897Z",
     "iopub.status.idle": "2023-09-18T19:06:47.305553Z",
     "shell.execute_reply": "2023-09-18T19:06:47.304991Z",
     "shell.execute_reply.started": "2023-09-18T19:06:47.289075Z"
    }
   },
   "outputs": [],
   "source": [
    "idx_no = {v: k for k, v in dict_nos.items()}"
   ]
  },
  {
   "cell_type": "code",
   "execution_count": 11,
   "id": "aa397d10-8fda-4e69-b08b-d744ea11d095",
   "metadata": {
    "execution": {
     "iopub.execute_input": "2023-09-18T19:06:48.205224Z",
     "iopub.status.busy": "2023-09-18T19:06:48.205013Z",
     "iopub.status.idle": "2023-09-18T19:06:48.210419Z",
     "shell.execute_reply": "2023-09-18T19:06:48.209928Z",
     "shell.execute_reply.started": "2023-09-18T19:06:48.205209Z"
    }
   },
   "outputs": [
    {
     "data": {
      "text/plain": [
       "[1, 2, 3, 4, 5]"
      ]
     },
     "execution_count": 11,
     "metadata": {},
     "output_type": "execute_result"
    }
   ],
   "source": [
    "list(idx_no.keys())[:5]"
   ]
  },
  {
   "cell_type": "code",
   "execution_count": 12,
   "id": "7a65bdad-7a23-4d47-83a1-ea51c7488254",
   "metadata": {
    "execution": {
     "iopub.execute_input": "2023-09-18T19:06:59.176759Z",
     "iopub.status.busy": "2023-09-18T19:06:59.176569Z",
     "iopub.status.idle": "2023-09-18T19:06:59.204929Z",
     "shell.execute_reply": "2023-09-18T19:06:59.204384Z",
     "shell.execute_reply.started": "2023-09-18T19:06:59.176746Z"
    }
   },
   "outputs": [],
   "source": [
    "noStrat = {idx_no[idx]: idx for idx in idxSort}"
   ]
  },
  {
   "cell_type": "code",
   "execution_count": 13,
   "id": "5dc56ede-3dfd-40b8-8fd4-60e16c63c582",
   "metadata": {
    "execution": {
     "iopub.execute_input": "2023-09-18T19:07:26.845367Z",
     "iopub.status.busy": "2023-09-18T19:07:26.845197Z",
     "iopub.status.idle": "2023-09-18T19:07:26.849378Z",
     "shell.execute_reply": "2023-09-18T19:07:26.849067Z",
     "shell.execute_reply.started": "2023-09-18T19:07:26.845355Z"
    }
   },
   "outputs": [
    {
     "data": {
      "text/plain": [
       "[3, 4, 7, 11, 12]"
      ]
     },
     "execution_count": 13,
     "metadata": {},
     "output_type": "execute_result"
    }
   ],
   "source": [
    "list(noStrat.values())[:5]"
   ]
  },
  {
   "cell_type": "markdown",
   "id": "d5cfea1f-c2f5-4c50-bf1b-083f71384d9e",
   "metadata": {},
   "source": [
    "Neste ponto, temos quais indices do dicionário `idx_no` a acessar, para então associar uma aresta."
   ]
  },
  {
   "cell_type": "markdown",
   "id": "036e2e4b-d1fa-4afd-93fb-8ab1858d560b",
   "metadata": {},
   "source": [
    "O arquivo relevante para a próxima análise é `edges.csv`, que representa uma lista de valores separados por _vírgulas_, com uma aresta por linha. O significado de cada coluna do arquivo é:\n",
    "\n",
    "- Primeira coluna: ID do nó de participação em música\n",
    "- Segunda coluna: ID do nó de participação em música\n",
    "\n",
    "Agora, devemos inspecionar os valores armazenados em `edges.csv`:"
   ]
  },
  {
   "cell_type": "markdown",
   "id": "1ecd3ad7-b7f1-484b-88f5-49219b96b152",
   "metadata": {},
   "source": [
    "Como visto nas saidas acima, temos 2 arestas possíveis dentro os nos validos para as 10 primerias arestas válidas. "
   ]
  },
  {
   "cell_type": "markdown",
   "id": "8e53c48a-5e1b-4cf7-931f-7e39620d4a49",
   "metadata": {},
   "source": [
    "## Criação do grafo"
   ]
  },
  {
   "cell_type": "markdown",
   "id": "73bdae5e-d6f0-4867-aa2c-46eefd7568d5",
   "metadata": {
    "execution": {
     "iopub.execute_input": "2023-08-20T19:37:55.240286Z",
     "iopub.status.busy": "2023-08-20T19:37:55.239465Z",
     "iopub.status.idle": "2023-08-20T19:37:55.305094Z",
     "shell.execute_reply": "2023-08-20T19:37:55.303577Z",
     "shell.execute_reply.started": "2023-08-20T19:37:55.240259Z"
    }
   },
   "source": [
    "Utilizaremos a biblioteca [graph-tool](https://graph-tool.skewed.de/) somente para criação e visualização básica dos grafos, sem suporte de nenhum método ou função que não seja essencial."
   ]
  },
  {
   "cell_type": "code",
   "execution_count": 15,
   "id": "31688a69-ca4c-490a-84b4-66742a357982",
   "metadata": {
    "execution": {
     "iopub.execute_input": "2023-09-18T19:07:38.172875Z",
     "iopub.status.busy": "2023-09-18T19:07:38.172657Z",
     "iopub.status.idle": "2023-09-18T19:07:38.175490Z",
     "shell.execute_reply": "2023-09-18T19:07:38.175156Z",
     "shell.execute_reply.started": "2023-09-18T19:07:38.172862Z"
    }
   },
   "outputs": [],
   "source": [
    "g = gte.Graph(directed=False) # pois o grafo não é direcionado, como informado acima."
   ]
  },
  {
   "cell_type": "markdown",
   "id": "0121351c-e87e-443c-a777-63032cbfc8cc",
   "metadata": {},
   "source": [
    "Antes, vamos definir duas funções auxiliares para facilitar a adição de novos nós e arestas, respectivamente."
   ]
  },
  {
   "cell_type": "code",
   "execution_count": 16,
   "id": "5c6ed088-d0e6-4e7b-989a-b73d12549688",
   "metadata": {
    "execution": {
     "iopub.execute_input": "2023-09-18T19:07:39.161191Z",
     "iopub.status.busy": "2023-09-18T19:07:39.160609Z",
     "iopub.status.idle": "2023-09-18T19:07:39.164311Z",
     "shell.execute_reply": "2023-09-18T19:07:39.163769Z",
     "shell.execute_reply.started": "2023-09-18T19:07:39.161174Z"
    }
   },
   "outputs": [],
   "source": [
    "def get_or_add_vertex(g, id):\n",
    "    u = g.vertex_by_id(id)\n",
    "    if u is None:\n",
    "        u = g.add_vertex_by_id(id)\n",
    "    return u\n",
    "\n",
    "def get_or_add_edge(g, id1, id2):\n",
    "    e = g.edge_by_ids(id1, id2)\n",
    "    if e is None:\n",
    "        e = g.add_edge_by_ids(id1, id2)\n",
    "    return e"
   ]
  },
  {
   "cell_type": "markdown",
   "id": "e08ef845-8fb5-43a3-8353-c067d1130a02",
   "metadata": {},
   "source": [
    "Depois de criar o novo grafo, vamos armazenar os valores de `edges.csv` nele, o transformando em uma rede."
   ]
  },
  {
   "cell_type": "code",
   "execution_count": 14,
   "id": "b978cc43-7e40-4b56-a764-5abd40d9c119",
   "metadata": {
    "execution": {
     "iopub.execute_input": "2023-09-18T19:07:34.173053Z",
     "iopub.status.busy": "2023-09-18T19:07:34.172869Z",
     "iopub.status.idle": "2023-09-18T19:07:34.177309Z",
     "shell.execute_reply": "2023-09-18T19:07:34.176958Z",
     "shell.execute_reply.started": "2023-09-18T19:07:34.173041Z"
    }
   },
   "outputs": [
    {
     "name": "stdout",
     "output_type": "stream",
     "text": [
      "bateu em i=2\n",
      "bateu em i=4\n",
      "bateu em i=5\n",
      "bateu em i=7\n",
      "bateu em i=9\n"
     ]
    }
   ],
   "source": [
    "with open(PATH) as file:\n",
    "\n",
    "    # cria index de contagem para o loop abaixo.\n",
    "    i = 0\n",
    "    \n",
    "    # ignora o cabeçalho.\n",
    "    next(file)\n",
    "\n",
    "    # Para não sobrecarregar este notebook\n",
    "    # vamos espiar somente as 5 primeiras linhas.\n",
    "    for line in file:\n",
    "\n",
    "        # Transforma a linha em uma lista de partes,\n",
    "        # considerando a vírgula como separador.\n",
    "        parts = line.split(',')\n",
    "        no1 = parts[0]\n",
    "        no2 = parts[1].split('\\n')[0]\n",
    "\n",
    "        # Imprime o nó A que referencia e o nó B que é referenciado.\n",
    "        \n",
    "        if (no1 and no2) in noStrat:\n",
    "            print(f'bateu em i={i}')\n",
    "        \n",
    "        # Para não sobrecarregar este notebook, vamos usar um contador\n",
    "        # e um break para imprimir apenas as cinco primeiras linhas.\n",
    "        i += 1\n",
    "        if i == 10:\n",
    "            break"
   ]
  },
  {
   "cell_type": "code",
   "execution_count": 17,
   "id": "d82b4d2d-c1b4-484e-a78a-6be0d0d0d923",
   "metadata": {
    "execution": {
     "iopub.execute_input": "2023-09-18T19:07:52.161329Z",
     "iopub.status.busy": "2023-09-18T19:07:52.161111Z",
     "iopub.status.idle": "2023-09-18T19:07:55.708106Z",
     "shell.execute_reply": "2023-09-18T19:07:55.707635Z",
     "shell.execute_reply.started": "2023-09-18T19:07:52.161315Z"
    }
   },
   "outputs": [
    {
     "name": "stdout",
     "output_type": "stream",
     "text": [
      "Foram lidas 300387 linhas.\n",
      "Foram considerados 141911 arestas\n"
     ]
    }
   ],
   "source": [
    "with open(PATH) as file:\n",
    "\n",
    "    # Cria index de contagem de linhas lidas.\n",
    "    i = 1\n",
    "    j = 0\n",
    "    \n",
    "    # Ignora o cabeçalho.\n",
    "    next(file)\n",
    "\n",
    "    # Itera linha a linha do arquivo `out.linux`\n",
    "    for line in file:\n",
    "\n",
    "        # Transforma a linha em uma lista de partes,\n",
    "        # considerando a vírgula como separador.\n",
    "        parts = line.split(',')\n",
    "\n",
    "        # Define os IDs de origem e destino.\n",
    "        no1 = parts[0]\n",
    "        no2 = parts[1].split('\\n')[0]\n",
    "\n",
    "        if (no1 and no2) in noStrat:\n",
    "            # Adiciona os vértices.\n",
    "            get_or_add_vertex(g, no1)\n",
    "            get_or_add_vertex(g, no2)\n",
    "    \n",
    "            # Adiciona a aresta correspondente a esta linha.\n",
    "            get_or_add_edge(g, no1, no2)\n",
    "\n",
    "            j += 1\n",
    "        \n",
    "        # Incrementa o contador de linhas lidas.\n",
    "        i += 1\n",
    "\n",
    "# Imprime a quantidade de linhas lidas.\n",
    "print(f'Foram lidas {i} linhas.') \n",
    "print(f'Foram considerados {j} arestas')"
   ]
  },
  {
   "cell_type": "markdown",
   "id": "923564fb-7f3c-4fe3-a560-c423b6072e37",
   "metadata": {},
   "source": [
    "A seguir, devemos chamar `draw.sfdp_layout`, passando a rede, para rodar um algoritmo de posicionamento chamado SFDP [[1](#sfdp)].\n",
    "\n",
    "Esse algoritmo usa uma ideia conhecida como [force-directed graph drawing](https://en.wikipedia.org/wiki/Force-directed_graph_drawing) para posicionar os vértices de forma a evidenciar agrupamentos."
   ]
  },
  {
   "cell_type": "code",
   "execution_count": null,
   "id": "137eb50b-e52a-4b4a-be92-fb71175d97d1",
   "metadata": {
    "execution": {
     "iopub.execute_input": "2023-09-18T19:07:55.709117Z",
     "iopub.status.busy": "2023-09-18T19:07:55.708945Z"
    }
   },
   "outputs": [],
   "source": [
    "layout = draw.sfdp_layout(g)"
   ]
  },
  {
   "cell_type": "code",
   "execution_count": null,
   "id": "fb4d1179-2d20-4734-95ce-ead89c8f91d0",
   "metadata": {},
   "outputs": [],
   "source": [
    "gte.move(g, layout)"
   ]
  },
  {
   "cell_type": "markdown",
   "id": "b00c9e76-86e3-4e24-8394-402860042868",
   "metadata": {},
   "source": [
    "## Armazenamento da rede"
   ]
  },
  {
   "cell_type": "markdown",
   "id": "b60cf942-8c2e-40eb-85a1-8b210a134bc2",
   "metadata": {
    "execution": {
     "iopub.execute_input": "2023-08-20T20:27:55.808351Z",
     "iopub.status.busy": "2023-08-20T20:27:55.808009Z",
     "iopub.status.idle": "2023-08-20T20:27:55.815750Z",
     "shell.execute_reply": "2023-08-20T20:27:55.814497Z",
     "shell.execute_reply.started": "2023-08-20T20:27:55.808329Z"
    }
   },
   "source": [
    "Para garantir a segurança da informação processada, devemos guardá-la em um arquivo na mesma pasta deste notebook."
   ]
  },
  {
   "cell_type": "code",
   "execution_count": null,
   "id": "bb6587ad-a233-4dc9-8af1-b47f0ca233b7",
   "metadata": {},
   "outputs": [],
   "source": [
    "g = gte.clean(g)\n",
    "gte.save(g, 'spotify.net.gz')"
   ]
  },
  {
   "cell_type": "markdown",
   "id": "d3cf04a6-7083-44b8-9994-97ffac7708dc",
   "metadata": {},
   "source": [
    "## Visualização da rede"
   ]
  },
  {
   "cell_type": "markdown",
   "id": "2e6d71c3-c46e-4d33-b3ad-e433ea90eb0c",
   "metadata": {},
   "source": [
    "O próximo passo é a renderização da rede."
   ]
  },
  {
   "cell_type": "code",
   "execution_count": null,
   "id": "baa4ee05-bf7f-4513-8121-2bc0b27e0839",
   "metadata": {},
   "outputs": [],
   "source": [
    "r = netpixi.render('spotify.net.gz', infinite=True)"
   ]
  },
  {
   "cell_type": "markdown",
   "id": "70806544-40fc-4a4b-9a0e-ecf8e83c6977",
   "metadata": {},
   "source": [
    "Por fim, devemos ajustar a visualização da renderização."
   ]
  },
  {
   "cell_type": "code",
   "execution_count": null,
   "id": "3b13096b-f84f-4910-bb28-cec6aa4063df",
   "metadata": {},
   "outputs": [],
   "source": [
    "r.vertex_default(size=4, bwidth=1)"
   ]
  },
  {
   "cell_type": "code",
   "execution_count": null,
   "id": "7e6a4ee8-e117-4f40-ac47-303b5266a215",
   "metadata": {},
   "outputs": [],
   "source": [
    "r.edge_default(width=1)"
   ]
  },
  {
   "cell_type": "markdown",
   "id": "e22817bf-dfb9-4eaf-81ac-6193d10a9c1d",
   "metadata": {},
   "source": [
    "## Estatísticas"
   ]
  },
  {
   "cell_type": "code",
   "execution_count": null,
   "id": "d321a4c9-90d4-4a8b-8052-b06f18cf31f7",
   "metadata": {},
   "outputs": [],
   "source": [
    "print(f\"Número de vértices: {len(g.get_vertices())}\")\n",
    "print(f\"Número de arestas: {len(g.get_edges())}\")"
   ]
  },
  {
   "cell_type": "code",
   "execution_count": null,
   "id": "e0ada899-1a47-4eed-b37c-4d67ce7426c0",
   "metadata": {},
   "outputs": [],
   "source": [
    "print(f\"Densidade da rede: {g.density()}\")\n",
    "print(f\"Transitividade da rede: {g.transitivity()}\")"
   ]
  },
  {
   "cell_type": "code",
   "execution_count": null,
   "id": "18fd2b62-284b-4c1b-b8d4-07f1fbb0d832",
   "metadata": {},
   "outputs": [],
   "source": [
    "degrees = g.get_total_degrees()"
   ]
  },
  {
   "cell_type": "code",
   "execution_count": null,
   "id": "6e2b04b4-0e45-462e-ab99-a19fac365c01",
   "metadata": {},
   "outputs": [],
   "source": [
    "degrees.describe()"
   ]
  },
  {
   "cell_type": "code",
   "execution_count": null,
   "id": "11d16ba0-5bbd-44bc-9880-c937b8062368",
   "metadata": {},
   "outputs": [],
   "source": [
    "degrees.hist(bins = int(np.sqrt(len(g.get_edges() ) ) ) );"
   ]
  },
  {
   "cell_type": "code",
   "execution_count": null,
   "id": "bc3b81b1-43a3-4d10-a9ba-7a39ef9e7c49",
   "metadata": {},
   "outputs": [],
   "source": [
    "dst.not_normal(degrees)"
   ]
  },
  {
   "cell_type": "code",
   "execution_count": null,
   "id": "45051f41-2922-4cf0-bff8-56ee26f9185c",
   "metadata": {},
   "outputs": [],
   "source": [
    "dst.more_powerlaw_than_lognormal(degrees)"
   ]
  },
  {
   "cell_type": "code",
   "execution_count": null,
   "id": "025d39a3-1704-4c8f-94ac-11c631de7834",
   "metadata": {},
   "outputs": [],
   "source": [
    "dst.more_powerlaw_than_exponential(degrees)"
   ]
  },
  {
   "cell_type": "code",
   "execution_count": null,
   "id": "37f1d13f-4cf8-4871-91d9-f8d1cd4a8260",
   "metadata": {},
   "outputs": [],
   "source": [
    "distances = g.get_distances()"
   ]
  },
  {
   "cell_type": "code",
   "execution_count": null,
   "id": "dc1fb4cb-f1b9-4a74-8df3-2521845b88f2",
   "metadata": {},
   "outputs": [],
   "source": [
    "distances.describe()"
   ]
  },
  {
   "cell_type": "code",
   "execution_count": null,
   "id": "78e3ba53-a8ab-406d-ab84-311c4179bd71",
   "metadata": {},
   "outputs": [],
   "source": [
    "distances.hist();"
   ]
  },
  {
   "cell_type": "code",
   "execution_count": null,
   "id": "d6782302-8c0f-468d-8771-931fd2216150",
   "metadata": {},
   "outputs": [],
   "source": []
  }
 ],
 "metadata": {
  "kernelspec": {
   "display_name": "Python 3 (ipykernel)",
   "language": "python",
   "name": "python3"
  },
  "language_info": {
   "codemirror_mode": {
    "name": "ipython",
    "version": 3
   },
   "file_extension": ".py",
   "mimetype": "text/x-python",
   "name": "python",
   "nbconvert_exporter": "python",
   "pygments_lexer": "ipython3",
   "version": "3.11.5"
  }
 },
 "nbformat": 4,
 "nbformat_minor": 5
}
